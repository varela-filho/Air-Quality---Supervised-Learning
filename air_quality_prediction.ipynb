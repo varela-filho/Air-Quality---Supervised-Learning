{
 "cells": [
  {
   "cell_type": "markdown",
   "metadata": {},
   "source": [
    "# Air Quality Prediction"
   ]
  },
  {
   "cell_type": "markdown",
   "metadata": {},
   "source": [
    "In this notebook, I'm going to analise a dataset which have information about air quality of 6 different cities around the world.\n",
    "\n",
    "The main objetive is to prepare the data and gather information using supervised algorithem to make future predictions"
   ]
  },
  {
   "cell_type": "markdown",
   "metadata": {},
   "source": [
    "### The Data"
   ]
  },
  {
   "cell_type": "code",
   "execution_count": 1,
   "metadata": {},
   "outputs": [],
   "source": [
    "import pandas as pd\n",
    "import numpy as np\n",
    "import matplotlib.pyplot as plt"
   ]
  },
  {
   "cell_type": "code",
   "execution_count": 2,
   "metadata": {},
   "outputs": [
    {
     "data": {
      "text/html": [
       "<div>\n",
       "<style scoped>\n",
       "    .dataframe tbody tr th:only-of-type {\n",
       "        vertical-align: middle;\n",
       "    }\n",
       "\n",
       "    .dataframe tbody tr th {\n",
       "        vertical-align: top;\n",
       "    }\n",
       "\n",
       "    .dataframe thead th {\n",
       "        text-align: right;\n",
       "    }\n",
       "</style>\n",
       "<table border=\"1\" class=\"dataframe\">\n",
       "  <thead>\n",
       "    <tr style=\"text-align: right;\">\n",
       "      <th></th>\n",
       "      <th>Date</th>\n",
       "      <th>City</th>\n",
       "      <th>CO</th>\n",
       "      <th>CO2</th>\n",
       "      <th>NO2</th>\n",
       "      <th>SO2</th>\n",
       "      <th>O3</th>\n",
       "      <th>PM2.5</th>\n",
       "      <th>PM10</th>\n",
       "      <th>AQI</th>\n",
       "    </tr>\n",
       "  </thead>\n",
       "  <tbody>\n",
       "    <tr>\n",
       "      <th>0</th>\n",
       "      <td>2024-01-01 00:00:00+00:00</td>\n",
       "      <td>Brasilia</td>\n",
       "      <td>323.0</td>\n",
       "      <td>NaN</td>\n",
       "      <td>23.8</td>\n",
       "      <td>2.8</td>\n",
       "      <td>42.0</td>\n",
       "      <td>12.0</td>\n",
       "      <td>17.1</td>\n",
       "      <td>16.800000</td>\n",
       "    </tr>\n",
       "    <tr>\n",
       "      <th>1</th>\n",
       "      <td>2024-01-01 01:00:00+00:00</td>\n",
       "      <td>Brasilia</td>\n",
       "      <td>318.0</td>\n",
       "      <td>NaN</td>\n",
       "      <td>21.9</td>\n",
       "      <td>2.7</td>\n",
       "      <td>40.0</td>\n",
       "      <td>12.5</td>\n",
       "      <td>17.9</td>\n",
       "      <td>16.000000</td>\n",
       "    </tr>\n",
       "    <tr>\n",
       "      <th>2</th>\n",
       "      <td>2024-01-01 02:00:00+00:00</td>\n",
       "      <td>Brasilia</td>\n",
       "      <td>309.0</td>\n",
       "      <td>NaN</td>\n",
       "      <td>19.2</td>\n",
       "      <td>2.6</td>\n",
       "      <td>39.0</td>\n",
       "      <td>12.1</td>\n",
       "      <td>17.3</td>\n",
       "      <td>15.599999</td>\n",
       "    </tr>\n",
       "    <tr>\n",
       "      <th>3</th>\n",
       "      <td>2024-01-01 03:00:00+00:00</td>\n",
       "      <td>Brasilia</td>\n",
       "      <td>295.0</td>\n",
       "      <td>NaN</td>\n",
       "      <td>16.3</td>\n",
       "      <td>2.4</td>\n",
       "      <td>38.0</td>\n",
       "      <td>11.4</td>\n",
       "      <td>16.2</td>\n",
       "      <td>15.200000</td>\n",
       "    </tr>\n",
       "    <tr>\n",
       "      <th>4</th>\n",
       "      <td>2024-01-01 04:00:00+00:00</td>\n",
       "      <td>Brasilia</td>\n",
       "      <td>270.0</td>\n",
       "      <td>NaN</td>\n",
       "      <td>13.0</td>\n",
       "      <td>2.1</td>\n",
       "      <td>40.0</td>\n",
       "      <td>10.2</td>\n",
       "      <td>14.6</td>\n",
       "      <td>16.000000</td>\n",
       "    </tr>\n",
       "  </tbody>\n",
       "</table>\n",
       "</div>"
      ],
      "text/plain": [
       "                        Date      City     CO  CO2   NO2  SO2    O3  PM2.5  \\\n",
       "0  2024-01-01 00:00:00+00:00  Brasilia  323.0  NaN  23.8  2.8  42.0   12.0   \n",
       "1  2024-01-01 01:00:00+00:00  Brasilia  318.0  NaN  21.9  2.7  40.0   12.5   \n",
       "2  2024-01-01 02:00:00+00:00  Brasilia  309.0  NaN  19.2  2.6  39.0   12.1   \n",
       "3  2024-01-01 03:00:00+00:00  Brasilia  295.0  NaN  16.3  2.4  38.0   11.4   \n",
       "4  2024-01-01 04:00:00+00:00  Brasilia  270.0  NaN  13.0  2.1  40.0   10.2   \n",
       "\n",
       "   PM10        AQI  \n",
       "0  17.1  16.800000  \n",
       "1  17.9  16.000000  \n",
       "2  17.3  15.599999  \n",
       "3  16.2  15.200000  \n",
       "4  14.6  16.000000  "
      ]
     },
     "execution_count": 2,
     "metadata": {},
     "output_type": "execute_result"
    }
   ],
   "source": [
    "# importing the data\n",
    "df_raw = pd.read_csv(\"Air_Quality.csv\")\n",
    "df_raw.head()"
   ]
  },
  {
   "cell_type": "code",
   "execution_count": 3,
   "metadata": {},
   "outputs": [
    {
     "name": "stdout",
     "output_type": "stream",
     "text": [
      "<class 'pandas.core.frame.DataFrame'>\n",
      "RangeIndex: 52704 entries, 0 to 52703\n",
      "Data columns (total 10 columns):\n",
      " #   Column  Non-Null Count  Dtype  \n",
      "---  ------  --------------  -----  \n",
      " 0   Date    52704 non-null  object \n",
      " 1   City    52704 non-null  object \n",
      " 2   CO      52704 non-null  float64\n",
      " 3   CO2     9648 non-null   float64\n",
      " 4   NO2     52704 non-null  float64\n",
      " 5   SO2     52704 non-null  float64\n",
      " 6   O3      52704 non-null  float64\n",
      " 7   PM2.5   52704 non-null  float64\n",
      " 8   PM10    52704 non-null  float64\n",
      " 9   AQI     52704 non-null  float64\n",
      "dtypes: float64(8), object(2)\n",
      "memory usage: 4.0+ MB\n"
     ]
    }
   ],
   "source": [
    "df_raw.info()"
   ]
  },
  {
   "cell_type": "code",
   "execution_count": null,
   "metadata": {},
   "outputs": [
    {
     "data": {
      "text/plain": [
       "2024-01-01 00:00:00+00:00    6\n",
       "2024-09-01 03:00:00+00:00    6\n",
       "2024-08-31 21:00:00+00:00    6\n",
       "2024-08-31 22:00:00+00:00    6\n",
       "2024-08-31 23:00:00+00:00    6\n",
       "                            ..\n",
       "2024-05-01 17:00:00+00:00    6\n",
       "2024-05-01 16:00:00+00:00    6\n",
       "2024-05-01 15:00:00+00:00    6\n",
       "2024-05-01 14:00:00+00:00    6\n",
       "2024-12-31 23:00:00+00:00    6\n",
       "Name: Date, Length: 8784, dtype: int64"
      ]
     },
     "execution_count": 9,
     "metadata": {},
     "output_type": "execute_result"
    }
   ],
   "source": [
    "# Analysing the `Date` column\n",
    "df_raw['Date'].value_counts(())"
   ]
  },
  {
   "cell_type": "code",
   "execution_count": 12,
   "metadata": {},
   "outputs": [
    {
     "data": {
      "text/html": [
       "<div>\n",
       "<style scoped>\n",
       "    .dataframe tbody tr th:only-of-type {\n",
       "        vertical-align: middle;\n",
       "    }\n",
       "\n",
       "    .dataframe tbody tr th {\n",
       "        vertical-align: top;\n",
       "    }\n",
       "\n",
       "    .dataframe thead th {\n",
       "        text-align: right;\n",
       "    }\n",
       "</style>\n",
       "<table border=\"1\" class=\"dataframe\">\n",
       "  <thead>\n",
       "    <tr style=\"text-align: right;\">\n",
       "      <th></th>\n",
       "      <th>Date</th>\n",
       "      <th>City</th>\n",
       "      <th>CO</th>\n",
       "      <th>CO2</th>\n",
       "      <th>NO2</th>\n",
       "      <th>SO2</th>\n",
       "      <th>O3</th>\n",
       "      <th>PM2.5</th>\n",
       "      <th>PM10</th>\n",
       "      <th>AQI</th>\n",
       "    </tr>\n",
       "  </thead>\n",
       "  <tbody>\n",
       "    <tr>\n",
       "      <th>0</th>\n",
       "      <td>2024-01-01 00:00:00+00:00</td>\n",
       "      <td>Brasilia</td>\n",
       "      <td>323.0</td>\n",
       "      <td>NaN</td>\n",
       "      <td>23.8</td>\n",
       "      <td>2.8</td>\n",
       "      <td>42.0</td>\n",
       "      <td>12.0</td>\n",
       "      <td>17.1</td>\n",
       "      <td>16.800000</td>\n",
       "    </tr>\n",
       "    <tr>\n",
       "      <th>8784</th>\n",
       "      <td>2024-01-01 00:00:00+00:00</td>\n",
       "      <td>Cairo</td>\n",
       "      <td>548.0</td>\n",
       "      <td>NaN</td>\n",
       "      <td>62.3</td>\n",
       "      <td>58.4</td>\n",
       "      <td>1.0</td>\n",
       "      <td>39.1</td>\n",
       "      <td>52.4</td>\n",
       "      <td>62.173332</td>\n",
       "    </tr>\n",
       "    <tr>\n",
       "      <th>17568</th>\n",
       "      <td>2024-01-01 00:00:00+00:00</td>\n",
       "      <td>Dubai</td>\n",
       "      <td>232.0</td>\n",
       "      <td>NaN</td>\n",
       "      <td>12.4</td>\n",
       "      <td>6.8</td>\n",
       "      <td>82.0</td>\n",
       "      <td>23.9</td>\n",
       "      <td>60.3</td>\n",
       "      <td>68.358340</td>\n",
       "    </tr>\n",
       "    <tr>\n",
       "      <th>26352</th>\n",
       "      <td>2024-01-01 00:00:00+00:00</td>\n",
       "      <td>London</td>\n",
       "      <td>162.0</td>\n",
       "      <td>NaN</td>\n",
       "      <td>4.7</td>\n",
       "      <td>1.0</td>\n",
       "      <td>65.0</td>\n",
       "      <td>3.5</td>\n",
       "      <td>7.3</td>\n",
       "      <td>9.070833</td>\n",
       "    </tr>\n",
       "    <tr>\n",
       "      <th>35136</th>\n",
       "      <td>2024-01-01 00:00:00+00:00</td>\n",
       "      <td>New York</td>\n",
       "      <td>514.0</td>\n",
       "      <td>NaN</td>\n",
       "      <td>56.8</td>\n",
       "      <td>10.7</td>\n",
       "      <td>0.0</td>\n",
       "      <td>19.3</td>\n",
       "      <td>27.8</td>\n",
       "      <td>26.720000</td>\n",
       "    </tr>\n",
       "    <tr>\n",
       "      <th>43920</th>\n",
       "      <td>2024-01-01 00:00:00+00:00</td>\n",
       "      <td>Sydney</td>\n",
       "      <td>71.0</td>\n",
       "      <td>NaN</td>\n",
       "      <td>7.7</td>\n",
       "      <td>4.4</td>\n",
       "      <td>29.0</td>\n",
       "      <td>12.2</td>\n",
       "      <td>22.2</td>\n",
       "      <td>24.808334</td>\n",
       "    </tr>\n",
       "  </tbody>\n",
       "</table>\n",
       "</div>"
      ],
      "text/plain": [
       "                            Date      City     CO  CO2   NO2   SO2    O3  \\\n",
       "0      2024-01-01 00:00:00+00:00  Brasilia  323.0  NaN  23.8   2.8  42.0   \n",
       "8784   2024-01-01 00:00:00+00:00     Cairo  548.0  NaN  62.3  58.4   1.0   \n",
       "17568  2024-01-01 00:00:00+00:00     Dubai  232.0  NaN  12.4   6.8  82.0   \n",
       "26352  2024-01-01 00:00:00+00:00    London  162.0  NaN   4.7   1.0  65.0   \n",
       "35136  2024-01-01 00:00:00+00:00  New York  514.0  NaN  56.8  10.7   0.0   \n",
       "43920  2024-01-01 00:00:00+00:00    Sydney   71.0  NaN   7.7   4.4  29.0   \n",
       "\n",
       "       PM2.5  PM10        AQI  \n",
       "0       12.0  17.1  16.800000  \n",
       "8784    39.1  52.4  62.173332  \n",
       "17568   23.9  60.3  68.358340  \n",
       "26352    3.5   7.3   9.070833  \n",
       "35136   19.3  27.8  26.720000  \n",
       "43920   12.2  22.2  24.808334  "
      ]
     },
     "execution_count": 12,
     "metadata": {},
     "output_type": "execute_result"
    }
   ],
   "source": [
    "df_raw[df_raw['Date'] == '2024-01-01 00:00:00+00:00']"
   ]
  },
  {
   "cell_type": "markdown",
   "metadata": {},
   "source": [
    "First thing noticed is that they calculated the metrics at the same time for each of the 6 chosen cities."
   ]
  },
  {
   "cell_type": "code",
   "execution_count": 17,
   "metadata": {},
   "outputs": [
    {
     "data": {
      "text/plain": [
       "0     2024-01-01 00:00:00+00:00\n",
       "1     2024-01-01 01:00:00+00:00\n",
       "2     2024-01-01 02:00:00+00:00\n",
       "3     2024-01-01 03:00:00+00:00\n",
       "4     2024-01-01 04:00:00+00:00\n",
       "5     2024-01-01 05:00:00+00:00\n",
       "6     2024-01-01 06:00:00+00:00\n",
       "7     2024-01-01 07:00:00+00:00\n",
       "8     2024-01-01 08:00:00+00:00\n",
       "9     2024-01-01 09:00:00+00:00\n",
       "10    2024-01-01 10:00:00+00:00\n",
       "11    2024-01-01 11:00:00+00:00\n",
       "12    2024-01-01 12:00:00+00:00\n",
       "13    2024-01-01 13:00:00+00:00\n",
       "14    2024-01-01 14:00:00+00:00\n",
       "15    2024-01-01 15:00:00+00:00\n",
       "16    2024-01-01 16:00:00+00:00\n",
       "17    2024-01-01 17:00:00+00:00\n",
       "18    2024-01-01 18:00:00+00:00\n",
       "19    2024-01-01 19:00:00+00:00\n",
       "20    2024-01-01 20:00:00+00:00\n",
       "21    2024-01-01 21:00:00+00:00\n",
       "22    2024-01-01 22:00:00+00:00\n",
       "23    2024-01-01 23:00:00+00:00\n",
       "24    2024-01-02 00:00:00+00:00\n",
       "Name: Date, dtype: object"
      ]
     },
     "execution_count": 17,
     "metadata": {},
     "output_type": "execute_result"
    }
   ],
   "source": [
    "# Continuing the inventigation of the column `Date`\n",
    "df_raw['Date'].head(25)"
   ]
  },
  {
   "cell_type": "markdown",
   "metadata": {},
   "source": [
    "This column shows us that the measures are made hour to hour from each of the 366 days of 2024 (leap year)\n",
    "\n",
    "For this reason we have "
   ]
  }
 ],
 "metadata": {
  "kernelspec": {
   "display_name": "analisedados",
   "language": "python",
   "name": "python3"
  },
  "language_info": {
   "codemirror_mode": {
    "name": "ipython",
    "version": 3
   },
   "file_extension": ".py",
   "mimetype": "text/x-python",
   "name": "python",
   "nbconvert_exporter": "python",
   "pygments_lexer": "ipython3",
   "version": "3.10.9"
  }
 },
 "nbformat": 4,
 "nbformat_minor": 2
}
